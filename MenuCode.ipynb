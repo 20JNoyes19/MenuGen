{
 "cells": [
  {
   "cell_type": "code",
   "execution_count": 28,
   "metadata": {},
   "outputs": [],
   "source": [
    "#import libraries needed\n",
    "\n",
    "import random\n",
    "import json"
   ]
  },
  {
   "cell_type": "code",
   "execution_count": 45,
   "metadata": {},
   "outputs": [
    {
     "name": "stdout",
     "output_type": "stream",
     "text": [
      "['oven', 'airfrier', 'sandwich']\n"
     ]
    }
   ],
   "source": [
    "meal_categories = ['soup', 'sandwich', 'stovetop', 'airfrier', 'crock', 'oven']\n",
    "\n",
    "cat_of_the_week = random.sample(meal_categories, k=3)\n",
    "print(cat_of_the_week)"
   ]
  },
  {
   "cell_type": "code",
   "execution_count": 46,
   "metadata": {},
   "outputs": [],
   "source": [
    "with open ('categories.txt', 'r') as f:\n",
    "    dishes = eval(f.read())"
   ]
  },
  {
   "cell_type": "code",
   "execution_count": 47,
   "metadata": {},
   "outputs": [
    {
     "name": "stdout",
     "output_type": "stream",
     "text": [
      "['pizza', 'fried cauliflower', 'pulled chicken']\n"
     ]
    }
   ],
   "source": [
    "meal_choice = []\n",
    "\n",
    "for cat in cat_of_the_week:\n",
    "    meal = dishes[cat]\n",
    "    pick = random.choice(meal)\n",
    "    meal_choice.append(pick)\n",
    "\n",
    "print(meal_choice)"
   ]
  },
  {
   "cell_type": "code",
   "execution_count": 48,
   "metadata": {},
   "outputs": [],
   "source": [
    "with open ('recipes.txt', 'r') as m:\n",
    "    ingredients = eval(m.read())"
   ]
  },
  {
   "cell_type": "code",
   "execution_count": 50,
   "metadata": {},
   "outputs": [
    {
     "name": "stdout",
     "output_type": "stream",
     "text": [
      "['tomato sauce', 'peparoni', 'olives', 'cheese', '.5 cup cornstarch', 'cauliflower', 'ginger', 'green onion', '8 oz crushed pineapple', 'tomato paste', 'ginger', '2 lb chicken', 'buns']\n"
     ]
    }
   ],
   "source": [
    "ingredients_list = []\n",
    "\n",
    "for i in meal_choice:\n",
    "    recipe = ingredients[i]\n",
    "    ingredients_list.append(recipe)\n",
    "\n",
    "result_ingredients = [element for nestedlist in ingredients_list for element in nestedlist]\n",
    "print(result_ingredients)"
   ]
  }
 ],
 "metadata": {
  "kernelspec": {
   "display_name": "base",
   "language": "python",
   "name": "python3"
  },
  "language_info": {
   "codemirror_mode": {
    "name": "ipython",
    "version": 3
   },
   "file_extension": ".py",
   "mimetype": "text/x-python",
   "name": "python",
   "nbconvert_exporter": "python",
   "pygments_lexer": "ipython3",
   "version": "3.9.7"
  },
  "orig_nbformat": 4,
  "vscode": {
   "interpreter": {
    "hash": "d306e73af81fff5d0b071ab7d7263bb378bfb3a310520fa648e8736832468180"
   }
  }
 },
 "nbformat": 4,
 "nbformat_minor": 2
}
