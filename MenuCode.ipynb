{
 "cells": [
  {
   "cell_type": "code",
   "execution_count": 83,
   "metadata": {},
   "outputs": [],
   "source": [
    "#import libraries needed\n",
    "\n",
    "import random\n",
    "import json"
   ]
  },
  {
   "cell_type": "code",
   "execution_count": 97,
   "metadata": {},
   "outputs": [
    {
     "name": "stdout",
     "output_type": "stream",
     "text": [
      "['crock', 'oven', 'soup']\n"
     ]
    }
   ],
   "source": [
    "meal_categories = ['soup', 'sandwich', 'stovetop', 'airfrier', 'crock', 'oven']\n",
    "\n",
    "cat_of_the_week = random.sample(meal_categories, k=3)\n",
    "print(cat_of_the_week)"
   ]
  },
  {
   "cell_type": "code",
   "execution_count": 98,
   "metadata": {},
   "outputs": [
    {
     "name": "stdout",
     "output_type": "stream",
     "text": [
      "['butter tofu', 'chicken parm', 'sweet potatoe turkey chili']\n"
     ]
    }
   ],
   "source": [
    "with open ('Categories.txt', 'r') as f:\n",
    "    dishes = eval(f.read())\n",
    "\n",
    "meal_choice = [] \n",
    "\n",
    "for cat in cat_of_the_week:\n",
    "    meal = dishes[cat]\n",
    "    pick = random.choice(meal)\n",
    "    meal_choice.append(pick)\n",
    "\n",
    "print(meal_choice)"
   ]
  }
 ],
 "metadata": {
  "kernelspec": {
   "display_name": "base",
   "language": "python",
   "name": "python3"
  },
  "language_info": {
   "codemirror_mode": {
    "name": "ipython",
    "version": 3
   },
   "file_extension": ".py",
   "mimetype": "text/x-python",
   "name": "python",
   "nbconvert_exporter": "python",
   "pygments_lexer": "ipython3",
   "version": "3.9.7"
  },
  "orig_nbformat": 4,
  "vscode": {
   "interpreter": {
    "hash": "d306e73af81fff5d0b071ab7d7263bb378bfb3a310520fa648e8736832468180"
   }
  }
 },
 "nbformat": 4,
 "nbformat_minor": 2
}
